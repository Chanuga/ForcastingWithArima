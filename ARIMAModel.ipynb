{
 "cells": [
  {
   "cell_type": "code",
   "execution_count": null,
   "metadata": {},
   "outputs": [],
   "source": [
    "import pandas as pd\n",
    "from datetime import datetime\n",
    "from pmdarima.arima import auto_arima\n",
    "from pmdarima.arima import ADFTest\n",
    "from sklearn.metrics import r2_score, mean_squared_error\n",
    "import math\n",
    "import matplotlib.pyplot as plt\n",
    "import pypyodbc as podbc"
   ]
  },
  {
   "cell_type": "code",
   "execution_count": null,
   "metadata": {},
   "outputs": [],
   "source": [
    "conn2 = podbc.connect(\"Driver={SQL Server Native Client 11.0};\"\n",
    "                     \"Server=DESKTOP-ES9JH7P;\"\n",
    "                     \"Database=SharpParts9;\"\n",
    "                     \"Trusted_Connection=yes;\")"
   ]
  },
  {
   "cell_type": "code",
   "execution_count": null,
   "metadata": {},
   "outputs": [],
   "source": [
    "data = pd.read_sql_query('''SELECT * FROM [dbo].[monthly_sales]''', conn2)"
   ]
  },
  {
   "cell_type": "code",
   "execution_count": null,
   "metadata": {},
   "outputs": [],
   "source": [
    "data.head()\n",
    "data[\"month\"] = data[\"month\"].apply(lambda x: datetime.strptime(x, \"%Y-%m\"))\n",
    "data.set_index(\"month\", inplace=True)"
   ]
  },
  {
   "cell_type": "code",
   "execution_count": null,
   "metadata": {},
   "outputs": [],
   "source": [
    "# data = pd.read_csv(\"monthly_sales.csv\")\n",
    "# data[\"month\"] = data[\"month\"].apply(lambda x: datetime.strptime(x, \"%Y-%m\"))\n",
    "# data.set_index(\"month\", inplace=True)"
   ]
  },
  {
   "cell_type": "code",
   "execution_count": null,
   "metadata": {},
   "outputs": [],
   "source": [
    "data.shape"
   ]
  },
  {
   "cell_type": "code",
   "execution_count": null,
   "metadata": {},
   "outputs": [],
   "source": [
    "data.dtypes"
   ]
  },
  {
   "cell_type": "code",
   "execution_count": null,
   "metadata": {},
   "outputs": [],
   "source": [
    "data"
   ]
  },
  {
   "cell_type": "code",
   "execution_count": null,
   "metadata": {},
   "outputs": [],
   "source": [
    "data.plot()"
   ]
  },
  {
   "cell_type": "code",
   "execution_count": null,
   "metadata": {},
   "outputs": [],
   "source": [
    "adf_test = ADFTest()\n",
    "adf_test.should_diff(data)"
   ]
  },
  {
   "cell_type": "code",
   "execution_count": null,
   "metadata": {},
   "outputs": [],
   "source": [
    "training_sample_count = 96\n",
    "train = data[:training_sample_count]\n",
    "test = data[training_sample_count:]\n",
    "plt.plot(train)\n",
    "plt.plot(test)"
   ]
  },
  {
   "cell_type": "code",
   "execution_count": null,
   "metadata": {},
   "outputs": [],
   "source": [
    "arima_model = auto_arima(\n",
    "    train,\n",
    "    start_p=0, d=1, start_q=0,\n",
    "    max_p=5, max_d=5, max_q=5,\n",
    "    start_P=0, D=1, start_Q=0, \n",
    "    max_P=0, max_D=5, max_Q=5,\n",
    "    m=12, seasonal=True,\n",
    ")"
   ]
  },
  {
   "cell_type": "code",
   "execution_count": null,
   "metadata": {},
   "outputs": [],
   "source": [
    "arima_model.summary()"
   ]
  },
  {
   "cell_type": "code",
   "execution_count": null,
   "metadata": {},
   "outputs": [],
   "source": [
    "prediction_periods = data.shape[0] - training_sample_count\n",
    "prediction = pd.DataFrame(arima_model.predict(n_periods=prediction_periods), index=test.index)\n",
    "prediction"
   ]
  },
  {
   "cell_type": "code",
   "execution_count": null,
   "metadata": {},
   "outputs": [],
   "source": [
    "plt.figure(figsize=(15, 5))\n",
    "plt.plot(train, label=\"Train\")\n",
    "plt.plot(test, label=\"Test\")\n",
    "plt.plot(prediction, label=\"Prediction\")\n",
    "plt.legend(loc='upper right')\n",
    "plt.show()"
   ]
  },
  {
   "cell_type": "code",
   "execution_count": null,
   "metadata": {},
   "outputs": [],
   "source": [
    "test"
   ]
  },
  {
   "cell_type": "code",
   "execution_count": null,
   "metadata": {},
   "outputs": [],
   "source": [
    "test[\"predicted_sales\"] = prediction\n",
    "r2_score(test[\"sales\"], test[\"predicted_sales\"])"
   ]
  },
  {
   "cell_type": "code",
   "execution_count": null,
   "metadata": {},
   "outputs": [],
   "source": [
    "math.sqrt(mean_squared_error(test[\"sales\"], test[\"predicted_sales\"]))"
   ]
  }
 ],
 "metadata": {
  "interpreter": {
   "hash": "3bd7600cb468417f2b81f115808e732caf4782583c8a6a5d877386f419c0d597"
  },
  "kernelspec": {
   "display_name": "Python 3.8.12 64-bit ('forcasting': conda)",
   "name": "python3"
  },
  "language_info": {
   "codemirror_mode": {
    "name": "ipython",
    "version": 3
   },
   "file_extension": ".py",
   "mimetype": "text/x-python",
   "name": "python",
   "nbconvert_exporter": "python",
   "pygments_lexer": "ipython3",
   "version": "3.8.12"
  },
  "orig_nbformat": 4
 },
 "nbformat": 4,
 "nbformat_minor": 2
}
