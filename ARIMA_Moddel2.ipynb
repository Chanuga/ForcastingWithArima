{
 "cells": [
  {
   "cell_type": "code",
   "execution_count": null,
   "metadata": {},
   "outputs": [],
   "source": [
    "import pandas as pd\n",
    "from dateutil.relativedelta import *\n",
    "from pmdarima.arima import auto_arima\n",
    "from pmdarima.arima import ADFTest\n",
    "from sklearn.metrics import r2_score, mean_squared_error\n",
    "import math\n",
    "import matplotlib.pyplot as plt\n",
    "import pypyodbc as podbc\n",
    "from sqlalchemy import create_engine\n",
    "import urllib"
   ]
  },
  {
   "cell_type": "code",
   "execution_count": null,
   "metadata": {},
   "outputs": [],
   "source": [
    "connet2db = podbc.connect(\"Driver={SQL Server Native Client 11.0};\"\n",
    "                     \"Server=DESKTOP-ES9JH7P;\"\n",
    "                     \"Database=SharpParts10;\"\n",
    "                     \"Trusted_Connection=yes;\")"
   ]
  },
  {
   "cell_type": "code",
   "execution_count": null,
   "metadata": {},
   "outputs": [],
   "source": [
    "data = pd.read_sql_query('''SELECT * FROM [dbo].[monthly_sales_data]''', connet2db)"
   ]
  },
  {
   "cell_type": "code",
   "execution_count": null,
   "metadata": {},
   "outputs": [],
   "source": [
    "data"
   ]
  },
  {
   "cell_type": "code",
   "execution_count": null,
   "metadata": {},
   "outputs": [],
   "source": [
    "data.dtypes"
   ]
  },
  {
   "cell_type": "code",
   "execution_count": null,
   "metadata": {},
   "outputs": [],
   "source": [
    "# data[\"month\"] = data[\"month\"].apply(lambda x: datetime.strptime(x, \"%Y-%m\"))\n",
    "data.set_index(\"month\", inplace=True)"
   ]
  },
  {
   "cell_type": "code",
   "execution_count": null,
   "metadata": {},
   "outputs": [],
   "source": [
    "data"
   ]
  },
  {
   "cell_type": "code",
   "execution_count": null,
   "metadata": {},
   "outputs": [],
   "source": [
    "data.shape"
   ]
  },
  {
   "cell_type": "code",
   "execution_count": null,
   "metadata": {},
   "outputs": [],
   "source": [
    "data.dtypes"
   ]
  },
  {
   "cell_type": "code",
   "execution_count": null,
   "metadata": {},
   "outputs": [],
   "source": [
    "data"
   ]
  },
  {
   "cell_type": "code",
   "execution_count": null,
   "metadata": {},
   "outputs": [],
   "source": [
    "data[\"honda\"]"
   ]
  },
  {
   "cell_type": "code",
   "execution_count": null,
   "metadata": {},
   "outputs": [],
   "source": [
    "plt.figure(figsize=(30, 8))\n",
    "for column in data.columns:\n",
    "    plt.plot(data[column], marker=\"o\", label=column.upper())\n",
    "plt.title(\"Sales of the Product\")\n",
    "plt.xlabel(\"Months\")\n",
    "plt.ylabel(\"Sales (LKR)\")\n",
    "plt.grid()\n",
    "plt.legend()\n",
    "plt.show()"
   ]
  },
  {
   "cell_type": "code",
   "execution_count": null,
   "metadata": {},
   "outputs": [],
   "source": [
    "adf_test = ADFTest()\n",
    "for column in data.columns:\n",
    "    print(adf_test.should_diff(data[column]))"
   ]
  },
  {
   "cell_type": "code",
   "execution_count": null,
   "metadata": {},
   "outputs": [],
   "source": [
    "def split_train_test(training_sample_count, data, plot=True):\n",
    "    train = data[:training_sample_count]\n",
    "    test = data[training_sample_count:]\n",
    "    if plot:\n",
    "        plt.plot(train)\n",
    "        plt.plot(test)\n",
    "    \n",
    "    return train, test\n"
   ]
  },
  {
   "cell_type": "code",
   "execution_count": null,
   "metadata": {},
   "outputs": [],
   "source": [
    "def train_arima(training_data, summary=True):\n",
    "    arima_model = auto_arima(\n",
    "        training_data,\n",
    "        start_p=0, d=1, start_q=0,\n",
    "        max_p=5, max_d=5, max_q=5,\n",
    "        start_P=0, D=1, start_Q=0, \n",
    "        max_P=0, max_D=5, max_Q=5,\n",
    "        m=12, seasonal=True,\n",
    "    )\n",
    "    if summary:\n",
    "        print(arima_model.summary())\n",
    "    \n",
    "    return arima_model"
   ]
  },
  {
   "cell_type": "code",
   "execution_count": null,
   "metadata": {},
   "outputs": [],
   "source": [
    "def predict(arima_model, prediction_period, index):\n",
    "    return pd.DataFrame(arima_model.predict(n_periods=prediction_period), index=index, columns=[\"prediction\"])"
   ]
  },
  {
   "cell_type": "code",
   "execution_count": null,
   "metadata": {},
   "outputs": [],
   "source": [
    "quoted = urllib.parse.quote_plus(\"Driver={SQL Server Native Client 11.0};\"\n",
    "                     \"Server=DESKTOP-ES9JH7P;\"\n",
    "                     \"Database=SharpParts10;\"\n",
    "                     \"Trusted_Connection=yes;\")"
   ]
  },
  {
   "cell_type": "code",
   "execution_count": null,
   "metadata": {},
   "outputs": [],
   "source": [
    "for column in data.columns:\n",
    "    training_sample_count = round(data.shape[0] * 0.75)\n",
    "    train, test = split_train_test(training_sample_count, data[column], plot=False)\n",
    "    model = train_arima(train, summary=False)\n",
    "    # prediction_period = data.shape[0] - training_sample_count\n",
    "    prediction_period = 30\n",
    "    index = pd.date_range(train.index[-1] + relativedelta(months=1), periods=prediction_period, freq='MS')\n",
    "    prediction = predict(model, prediction_period, index)\n",
    "\n",
    "    engine = create_engine('mssql+pyodbc:///?odbc_connect={}'.format(quoted))\n",
    "\n",
    "    prediction.to_sql(f'{column}_sales_prediction', schema='dbo', con = engine, if_exists = 'append', index_label=\"timestamp\")\n",
    "\n",
    "    plt.figure(figsize=(30, 8))\n",
    "    plt.plot(train, marker=\"o\", label=\"Train\")\n",
    "    plt.plot(test, marker=\"o\", label=\"Test\")\n",
    "    plt.plot(prediction, marker=\"o\", label=\"Prediction\")\n",
    "    plt.title(f\"Real Sales and Forecasted Sales of {column.upper()}\")\n",
    "    plt.xlabel(\"Month\")\n",
    "    plt.ylabel(\"Sales (LKR)\")\n",
    "    plt.legend(loc='upper right')\n",
    "    plt.grid()\n",
    "    plt.show()"
   ]
  },
  {
   "cell_type": "code",
   "execution_count": null,
   "metadata": {},
   "outputs": [],
   "source": [
    "prediction"
   ]
  },
  {
   "cell_type": "code",
   "execution_count": null,
   "metadata": {},
   "outputs": [],
   "source": []
  }
 ],
 "metadata": {
  "interpreter": {
   "hash": "3bd7600cb468417f2b81f115808e732caf4782583c8a6a5d877386f419c0d597"
  },
  "kernelspec": {
   "display_name": "Python 3.8.12 64-bit ('forcasting': conda)",
   "name": "python3"
  },
  "language_info": {
   "codemirror_mode": {
    "name": "ipython",
    "version": 3
   },
   "file_extension": ".py",
   "mimetype": "text/x-python",
   "name": "python",
   "nbconvert_exporter": "python",
   "pygments_lexer": "ipython3",
   "version": "3.8.12"
  },
  "orig_nbformat": 4
 },
 "nbformat": 4,
 "nbformat_minor": 2
}
