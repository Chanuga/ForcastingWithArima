{
 "cells": [
  {
   "cell_type": "code",
   "execution_count": 10,
   "metadata": {},
   "outputs": [],
   "source": [
    "# ARIMA example\n",
    "from statsmodels.tsa.arima.model import ARIMA\n",
    "from random import random"
   ]
  },
  {
   "cell_type": "code",
   "execution_count": 11,
   "metadata": {},
   "outputs": [
    {
     "name": "stdout",
     "output_type": "stream",
     "text": [
      "[1.012344029130554, 2.0007943909056376, 3.066158192407258, 4.340427391288956, 5.84825886524877, 6.520475458274206, 7.365641373672751, 8.233926444631326, 9.810448643077509, 10.401414892379805, 11.891669940188489, 12.746969970452783, 13.518502420821891, 14.15313251678784, 15.956143447312495, 16.770431776076666, 17.352761663085264, 18.67377240214544, 19.02362102366903, 20.676556951965637, 21.0141507111612, 22.844285635974455, 23.770242756331424, 24.020470436801837, 25.10455049474355, 26.49044837835304, 27.630700537906513, 28.71369519137524, 29.447429091025715, 30.26081817227749, 31.19900721396497, 32.10951672553237, 33.62145085494608, 34.914779033864534, 35.763763958317725, 36.49545672468262, 37.12758526377527, 38.22614944196196, 39.35662526682952, 40.32784646215005, 41.21072937521956, 42.115394806852706, 43.01099635025657, 44.98487085314089, 45.90040045637187, 46.30245758736321, 47.38505561835754, 48.111506241488826, 49.66520250762847, 50.615806334620224, 51.47627108693901, 52.00402298389003, 53.582446663072865, 54.00591072481205, 55.606779433767116, 56.998897358600175, 57.29015675142633, 58.305202792956145, 59.34392839401919, 60.605500498092134, 61.70812036809805, 62.199997535874346, 63.09348940297086, 64.26199791166746, 65.17988589606638, 66.04467862101095, 67.3609967680134, 68.20445538397318, 69.86542490523796, 70.42908183657227, 71.53782210814126, 72.74026681765433, 73.79348325255117, 74.41304506250654, 75.89386714124913, 76.87447799411886, 77.80222283529324, 78.36971272730106, 79.54795357011992, 80.80224406211182, 81.58343977327303, 82.12670375500743, 83.53834995895954, 84.65477267610282, 85.11814569035491, 86.19297407146583, 87.07594248522797, 88.56739304803651, 89.0100228134011, 90.0948680315575, 91.817014309075, 92.88274288158023, 93.17983780556732, 94.20008863861293, 95.88440829514269, 96.47930813222688, 97.61234486067536, 98.03478449242671, 99.52336684023906]\n"
     ]
    }
   ],
   "source": [
    "# contrived dataset\n",
    "data = [x + random() for x in range(1, 100)]\n",
    "print(data)"
   ]
  },
  {
   "cell_type": "code",
   "execution_count": 12,
   "metadata": {},
   "outputs": [
    {
     "name": "stdout",
     "output_type": "stream",
     "text": [
      "<statsmodels.tsa.arima.model.ARIMA object at 0x000001DF050B3100>\n"
     ]
    },
    {
     "name": "stderr",
     "output_type": "stream",
     "text": [
      "C:\\Users\\Chanuga\\anaconda3\\envs\\forcasting\\lib\\site-packages\\statsmodels\\tsa\\statespace\\sarimax.py:966: UserWarning: Non-stationary starting autoregressive parameters found. Using zeros as starting parameters.\n",
      "  warn('Non-stationary starting autoregressive parameters'\n"
     ]
    },
    {
     "name": "stdout",
     "output_type": "stream",
     "text": [
      "<statsmodels.tsa.arima.model.ARIMAResultsWrapper object at 0x000001DF65955E50>\n"
     ]
    },
    {
     "name": "stderr",
     "output_type": "stream",
     "text": [
      "C:\\Users\\Chanuga\\anaconda3\\envs\\forcasting\\lib\\site-packages\\statsmodels\\base\\model.py:604: ConvergenceWarning: Maximum Likelihood optimization failed to converge. Check mle_retvals\n",
      "  warnings.warn(\"Maximum Likelihood optimization failed to \"\n"
     ]
    }
   ],
   "source": [
    "# fit model\n",
    "model = ARIMA(data, order=(1, 1, 1))\n",
    "print(model)\n",
    "model_fit = model.fit()\n",
    "print(model_fit)"
   ]
  },
  {
   "cell_type": "code",
   "execution_count": 13,
   "metadata": {},
   "outputs": [
    {
     "name": "stdout",
     "output_type": "stream",
     "text": [
      "[100.52686128]\n"
     ]
    }
   ],
   "source": [
    "# make prediction\n",
    "yhat = model_fit.predict(len(data), len(data), typ='levels')\n",
    "print(yhat)"
   ]
  }
 ],
 "metadata": {
  "interpreter": {
   "hash": "3bd7600cb468417f2b81f115808e732caf4782583c8a6a5d877386f419c0d597"
  },
  "kernelspec": {
   "display_name": "Python 3.8.12 64-bit ('forcasting': conda)",
   "name": "python3"
  },
  "language_info": {
   "codemirror_mode": {
    "name": "ipython",
    "version": 3
   },
   "file_extension": ".py",
   "mimetype": "text/x-python",
   "name": "python",
   "nbconvert_exporter": "python",
   "pygments_lexer": "ipython3",
   "version": "3.8.12"
  },
  "orig_nbformat": 4
 },
 "nbformat": 4,
 "nbformat_minor": 2
}
